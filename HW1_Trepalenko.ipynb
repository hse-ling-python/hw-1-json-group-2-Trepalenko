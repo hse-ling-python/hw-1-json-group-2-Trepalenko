{
 "cells": [
  {
   "cell_type": "markdown",
   "metadata": {},
   "source": [
    "# Выполнено при моральной и интеллектуальной поддержке Екатерины Вадимовны Такташевой\n",
    "\n",
    "##### Трепаленко Александра, бкл182"
   ]
  },
  {
   "cell_type": "markdown",
   "metadata": {},
   "source": [
    "## Задание 1\n",
    "\n",
    "*Сколько твитов в наборе?*\n",
    "\n",
    "Преобразуем твиты json в формат строки, создаем для них список и считаем его длину."
   ]
  },
  {
   "cell_type": "code",
   "execution_count": 37,
   "metadata": {},
   "outputs": [],
   "source": [
    "import json\n",
    "from collections import Counter\n",
    "\n",
    "\n",
    "twitter = []\n",
    "for line in open('hw_3_twitter.json'):\n",
    "    twitter.append(json.loads(line))"
   ]
  },
  {
   "cell_type": "markdown",
   "metadata": {},
   "source": [
    "### Ответ"
   ]
  },
  {
   "cell_type": "code",
   "execution_count": 6,
   "metadata": {},
   "outputs": [
    {
     "name": "stdout",
     "output_type": "stream",
     "text": [
      "Количество твитов: 2556\n"
     ]
    }
   ],
   "source": [
    "print('Количество твитов:', len(twitter))"
   ]
  },
  {
   "cell_type": "markdown",
   "metadata": {},
   "source": [
    "## Задание 2\n",
    "\n",
    "*Какой процент твитов составляют удаленные записи?*\n",
    "\n",
    "Если один из ключей для твита 'delete', то добавляем этот твит в список для удаленных. Если нет, то в другой список. Считаем процент удаленных записей как длину их списка, умноженную на 100 и поделенную на длину списка всех твитов."
   ]
  },
  {
   "cell_type": "code",
   "execution_count": 38,
   "metadata": {},
   "outputs": [],
   "source": [
    "deleted = []\n",
    "twits = []\n",
    "for twit in twitter:\n",
    "    if 'delete' in twit.keys():\n",
    "        deleted.append(twit)\n",
    "    else:\n",
    "        twits.append(twit)\n",
    "        \n",
    "a = str(len(deleted)*100/len(twitter))"
   ]
  },
  {
   "cell_type": "markdown",
   "metadata": {},
   "source": [
    "### Ответ"
   ]
  },
  {
   "cell_type": "code",
   "execution_count": 10,
   "metadata": {
    "scrolled": false
   },
   "outputs": [
    {
     "name": "stdout",
     "output_type": "stream",
     "text": [
      "Удаленные записи составляют 14.162754303599375%\n"
     ]
    }
   ],
   "source": [
    "print('Удаленные записи составляют '+ a + '%')"
   ]
  },
  {
   "cell_type": "markdown",
   "metadata": {
    "scrolled": true
   },
   "source": [
    "## Задание 3\n",
    "\n",
    "*Какие самые популярные языки твитов?*\n",
    "\n",
    "Проходим по списку твитов. Находим по ключу 'lang' языки и добавляем их в отдельных список. Припомощи метода most_common() оставляем 10 наиболее популярных."
   ]
  },
  {
   "cell_type": "code",
   "execution_count": 15,
   "metadata": {},
   "outputs": [],
   "source": [
    "languages = []\n",
    "for twit in twits:\n",
    "    language = twit['lang']\n",
    "    languages.append(language)\n",
    "c = Counter(languages)\n",
    "common_languages = c.most_common(10)"
   ]
  },
  {
   "cell_type": "markdown",
   "metadata": {},
   "source": [
    "### Ответ"
   ]
  },
  {
   "cell_type": "code",
   "execution_count": 28,
   "metadata": {},
   "outputs": [
    {
     "name": "stdout",
     "output_type": "stream",
     "text": [
      "Язык - количество твитов:\n",
      "en - 719\n",
      "ja - 438\n",
      "es - 173\n",
      "ko - 149\n",
      "th - 123\n",
      "ar - 119\n",
      "und - 117\n",
      "in - 71\n",
      "pt - 69\n",
      "fr - 35\n"
     ]
    }
   ],
   "source": [
    "print('Язык - количество твитов:')\n",
    "for l in common_languages:\n",
    "    print(l[0], '-', l[1])"
   ]
  },
  {
   "cell_type": "markdown",
   "metadata": {},
   "source": [
    "## Задание 4\n",
    "\n",
    "*Есть ли твиты от одного и того же пользователя? Если да, то сколько таких пользователей?*\n",
    "\n",
    "Из твитов узнаем id пользователей и создаем для них отдельный список. Используем Counter, чтобы посчитать количество твитов каждого пользователя. Затем из них оставляем тех, у кого значение ключа больше 1, и вводим для подсчета их количества переменную counter. "
   ]
  },
  {
   "cell_type": "code",
   "execution_count": 13,
   "metadata": {},
   "outputs": [],
   "source": [
    "users = []\n",
    "for twit in range(len(twits)):\n",
    "    user = twits[twit]['user']['id_str']\n",
    "    users.append(user)\n",
    "c = Counter(users)\n",
    "counter = 0\n",
    "for user, number in c.items():\n",
    "    if number > 1:\n",
    "        counter += 1"
   ]
  },
  {
   "cell_type": "markdown",
   "metadata": {},
   "source": [
    "### Ответ"
   ]
  },
  {
   "cell_type": "code",
   "execution_count": 27,
   "metadata": {},
   "outputs": [
    {
     "name": "stdout",
     "output_type": "stream",
     "text": [
      "Количество пользователей, у которых есть несколько твитов: 25\n"
     ]
    }
   ],
   "source": [
    "print('Количество пользователей, у которых есть несколько твитов:', counter)"
   ]
  },
  {
   "cell_type": "markdown",
   "metadata": {},
   "source": [
    "## Задание 5\n",
    "\n",
    "*Топ-20 хэштегов*\n",
    "\n",
    "Из твитов оставляем те, у которых список хэштегов не пустой, и добавляем их в специальный список. Далее перебираем элементы этого списка и по ключу 'text' собираем тексты твитов в отдельный список. Из последнего выводим 20 самых популярных."
   ]
  },
  {
   "cell_type": "code",
   "execution_count": 18,
   "metadata": {},
   "outputs": [],
   "source": [
    "hashtags = []\n",
    "for twit in twits:\n",
    "    hashtag = twit['entities']['hashtags']\n",
    "    if len(hashtag) != 0:\n",
    "        hashtags.extend(hashtag)\n",
    "for_hashtags = []\n",
    "for hashtag in hashtags:\n",
    "    for key in hashtag.keys():\n",
    "        if key == 'text':\n",
    "            for_hashtags.append(hashtag[key])\n",
    "c = Counter(for_hashtags)\n",
    "common_hashtags = c.most_common(20)"
   ]
  },
  {
   "cell_type": "markdown",
   "metadata": {},
   "source": [
    "### Ответ"
   ]
  },
  {
   "cell_type": "code",
   "execution_count": 24,
   "metadata": {
    "scrolled": true
   },
   "outputs": [
    {
     "name": "stdout",
     "output_type": "stream",
     "text": [
      "Хэштег - количество:\n",
      "BTS - 17\n",
      "방탄소년단 - 13\n",
      "AMAs - 11\n",
      "人気投票ガチャ - 8\n",
      "태형 - 7\n",
      "뷔 - 6\n",
      "BTSinChicago - 5\n",
      "BTSLoveYourselfTour - 5\n",
      "오늘의방탄 - 5\n",
      "PledgeForSwachhBharat - 5\n",
      "MPN - 5\n",
      "PCAs - 4\n",
      "V - 4\n",
      "시카고1회차공연 - 4\n",
      "เป๊กผลิตโชค - 4\n",
      "JIMIN - 4\n",
      "running - 3\n",
      "NCT - 3\n",
      "지민 - 3\n",
      "WajahmuPlastik - 3\n"
     ]
    }
   ],
   "source": [
    "print('Хэштег - количество:')\n",
    "for tag in common_hashtags:\n",
    "    print(tag[0], '-', tag[1])"
   ]
  },
  {
   "cell_type": "markdown",
   "metadata": {},
   "source": [
    "## Задание 6\n",
    "\n",
    "*Предобработать тексты оригинальных твитов (не ретвитов) на английском языке (убрать пунктуацию, привести к нижнему регистру) и составить частотный словарь*\n",
    "\n",
    "Вводим список знаков пунктуации. По ключу твитов выбираем те, в которых нет ключа 'retweeted_status', добавляем их в отдельный список. Перебираем элементы этого списка: приводим к нижнему регистру, убираем знаки переноса и знаки пунктуации, разбиваем каждый текст на отдельные слова, которые добавляем в новый список. Затем используем Counter для их подсчета и выводим 20 самых частотных."
   ]
  },
  {
   "cell_type": "code",
   "execution_count": 21,
   "metadata": {},
   "outputs": [],
   "source": [
    "PUNCT = list(\"\"\".,…;:!?@#$%^&*№()_—=+|[]{}\\/\"<>`~±§«»\"\"\") + ['- ', ' -', ' - ']\n",
    "texts = []\n",
    "for twit in twits:\n",
    "    if 'retweeted_status' not in twit.keys():\n",
    "        texts.append(twit['text'])\n",
    "\n",
    "for_texts = []\n",
    "for text in texts:\n",
    "    text.lower()\n",
    "    for sign in PUNCT:\n",
    "        text = text.strip()\n",
    "        text = text.replace(sign, '')\n",
    "    new_text = text.split()\n",
    "    for_texts.extend(new_text)\n",
    "\n",
    "c = Counter(for_texts)\n",
    "common_words = c.most_common(20)"
   ]
  },
  {
   "cell_type": "markdown",
   "metadata": {},
   "source": [
    "### Ответ"
   ]
  },
  {
   "cell_type": "code",
   "execution_count": 23,
   "metadata": {},
   "outputs": [
    {
     "name": "stdout",
     "output_type": "stream",
     "text": [
      "Слово - количество:\n",
      "the - 105\n",
      "a - 101\n",
      "to - 88\n",
      "I - 70\n",
      "and - 62\n",
      "de - 61\n",
      "is - 45\n",
      "for - 43\n",
      "of - 42\n",
      "you - 38\n",
      "me - 36\n",
      "in - 35\n",
      "it - 30\n",
      "y - 29\n",
      "that - 27\n",
      "be - 26\n",
      "no - 25\n",
      "my - 25\n",
      "this - 24\n",
      "on - 23\n"
     ]
    }
   ],
   "source": [
    "print('Слово - количество:')\n",
    "for word in common_words:\n",
    "    print(word[0], '-', word[1])"
   ]
  },
  {
   "cell_type": "markdown",
   "metadata": {},
   "source": [
    "## Задание 7\n",
    "\n",
    "*Найти количество подписчиков (фолловеров) у авторов твитов и вывести топ-10*\n",
    "\n",
    "Заводим переменную для словаря, ключом в котором является имя пользователя, а значением - количество подписчиков (ключи 'name' и 'followers_counter' внутри ключа 'user' соответственно). Используем метод most_common для отбора 10 авторов твитов. "
   ]
  },
  {
   "cell_type": "code",
   "execution_count": 29,
   "metadata": {},
   "outputs": [],
   "source": [
    "followers = Counter()\n",
    "for twit in twits:\n",
    "    if 'retweeted_status' not in twit.keys():\n",
    "        followers[twit['user']['name']] = twit['user']['followers_count']\n",
    "common_followers = followers.most_common(10)"
   ]
  },
  {
   "cell_type": "markdown",
   "metadata": {},
   "source": [
    "### Ответ"
   ]
  },
  {
   "cell_type": "code",
   "execution_count": 31,
   "metadata": {},
   "outputs": [
    {
     "name": "stdout",
     "output_type": "stream",
     "text": [
      "Имя пользователя - количество подписчиков:\n",
      "Filosofía♕ - 2521403\n",
      "FITNESS Magazine - 1491309\n",
      "malaysiakini.com - 1206759\n",
      "NYT Science - 1137374\n",
      "Gramática - 625463\n",
      "TGRT Haber - 392472\n",
      "The Sun Football ⚽ - 383698\n",
      "Melbourne, Australia - 374222\n",
      "Roznama Express - 318189\n",
      "PT. JASAMARGA - 273225\n"
     ]
    }
   ],
   "source": [
    "print('Имя пользователя - количество подписчиков:')\n",
    "for follower in common_followers:\n",
    "    print(follower[0], '-', follower[1])"
   ]
  },
  {
   "cell_type": "markdown",
   "metadata": {},
   "source": [
    "## Задание 8\n",
    "\n",
    "*Топ-10 источников твита (из какого приложения написан)*\n",
    "\n",
    "Импортируем модуль re. При помощи re.search() находим для каждого из твитов в значении ключа 'source' часть строки, содержащую название источника. Добавляем источники в отдельный список, используем Counter для подсчета."
   ]
  },
  {
   "cell_type": "code",
   "execution_count": 33,
   "metadata": {},
   "outputs": [],
   "source": [
    "import re\n",
    "sources = []\n",
    "for twit in twits:\n",
    "    source = re.search(r'>(.+?)<', twit['source'])\n",
    "    if source:\n",
    "        source = source.group()\n",
    "        source = source.replace('>', '').replace('<', '')\n",
    "        sources.append(source)\n",
    "c = Counter(sources)\n",
    "common_sources = c.most_common(10)"
   ]
  },
  {
   "cell_type": "markdown",
   "metadata": {},
   "source": [
    "### Ответ"
   ]
  },
  {
   "cell_type": "code",
   "execution_count": 39,
   "metadata": {
    "scrolled": true
   },
   "outputs": [
    {
     "name": "stdout",
     "output_type": "stream",
     "text": [
      "Название источника - количество:\n",
      "Twitter for iPhone - 800\n",
      "Twitter for Android - 695\n",
      "Twitter Web Client - 140\n",
      "twittbot.net - 122\n",
      "Twitter Lite - 51\n",
      "Twitter for iPad - 28\n",
      "TweetDeck - 23\n",
      "Facebook - 17\n",
      "IFTTT - 14\n",
      "تطبيق قرآني - 10\n"
     ]
    }
   ],
   "source": [
    "print('Название источника - количество:')\n",
    "for source in common_sources:\n",
    "    print(source[0], '-', source[1])"
   ]
  }
 ],
 "metadata": {
  "kernelspec": {
   "display_name": "Python 3",
   "language": "python",
   "name": "python3"
  },
  "language_info": {
   "codemirror_mode": {
    "name": "ipython",
    "version": 3
   },
   "file_extension": ".py",
   "mimetype": "text/x-python",
   "name": "python",
   "nbconvert_exporter": "python",
   "pygments_lexer": "ipython3",
   "version": "3.7.3"
  }
 },
 "nbformat": 4,
 "nbformat_minor": 2
}
